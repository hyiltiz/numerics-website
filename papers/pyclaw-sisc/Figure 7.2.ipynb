{
 "metadata": {
  "name": "Figure 7.2"
 },
 "nbformat": 3,
 "nbformat_minor": 0,
 "worksheets": [
  {
   "cells": [
    {
     "cell_type": "markdown",
     "metadata": {},
     "source": [
      "This notebook contains the code used to produce Figure 7.2 from the paper\n",
      "\n",
      "*PyClaw: Accessible, Extensible, Scalable Tools for Wave Propagation Problems*\n",
      "\n",
      "David I. Ketcheson, Kyle T Mandli, Aron Ahmadia, Amal Alghamdi, Manuel Quezada, Matteo Parsani, Matthew G. Knepley, and Matthew Emmett, SIAM Journal on Scientific Computing, 34(4):C210-C231 (2012)\n",
      "\n",
      "http://dx.doi.org/10.1137/110856976"
     ]
    },
    {
     "cell_type": "markdown",
     "metadata": {},
     "source": [
      "<img height=500 src=\"http://numerics.kaust.edu.sa/papers/pyclaw-sisc/fig72.png\">"
     ]
    },
    {
     "cell_type": "markdown",
     "metadata": {},
     "source": [
      "### ABOUT THIS EXPERIMENT\n",
      "Figure 7.2 displays the results of a shock-bubble interaction computation, showing the transformation of an initially spherical bubble\n",
      "into a \u201csmoke ring\u201d after it is impacted by a shock wave.\n",
      "\n",
      "Computing this experiment required slightly more than 2 hours on a single core of a Xeon X5550 workstation.\n",
      "\n",
      "### RESPONSIBLE AUTHORS\n",
      "David Ketcheson\n",
      "\n",
      "Aron Ahmadia"
     ]
    },
    {
     "cell_type": "markdown",
     "metadata": {},
     "source": [
      "# Source\n",
      "\n",
      "The source code here is not the original source used for the paper; it has been updated to reflect variable name changes in the PyClaw library since then.  The original source can be obtained at\n",
      "\n",
      "https://bitbucket.org/ahmadia/pyclaw-sisc-rr/src/29282260fe48/source/figure_7.2/experiment/shockbubble.py?at=default\n",
      "\n",
      "The resolution has also been decreased in order to keep the run-time short.  To reproduce the figures in the paper, you should set the resolution to 1280 x 320 (but it will take a long time to run)."
     ]
    },
    {
     "cell_type": "code",
     "collapsed": false,
     "input": [
      "import numpy as np\n",
      "\n",
      "gamma = 1.4\n",
      "gamma1 = gamma - 1.\n",
      "x0=0.5; y0=0.; r0=0.2\n",
      "xshock = 0.2\n",
      "pinf=5.\n",
      "\n",
      "def inrad(y,x):\n",
      "    return (np.sqrt((x-x0)**2+(y-y0)**2)<r0)\n",
      "\n",
      "def ycirc(x,ymin,ymax):\n",
      "    if r0**2>((x-x0)**2):\n",
      "        return max(min(y0 + np.sqrt(r0**2-(x-x0)**2),ymax) - ymin,0.)\n",
      "    else:\n",
      "        return 0\n",
      "\n",
      "def qinit(state,x0=0.5,y0=0.,r0=0.2,rhoin=0.1,pinf=5.):\n",
      "    from scipy import integrate\n",
      "\n",
      "    grid = state.grid\n",
      "\n",
      "    rhoout = 1.\n",
      "    pout   = 1.\n",
      "    pin    = 1.\n",
      "\n",
      "    rinf = (gamma1 + pinf*(gamma+1.))/ ((gamma+1.) + gamma1*pinf)\n",
      "    vinf = 1./np.sqrt(gamma) * (pinf - 1.) / np.sqrt(0.5*((gamma+1.)/gamma) * pinf+0.5*gamma1/gamma)\n",
      "    einf = 0.5*rinf*vinf**2 + pinf/gamma1\n",
      "    \n",
      "    # Create an array with fortran native ordering\n",
      "    x =grid.x.centers\n",
      "    y =grid.y.centers\n",
      "    Y,X = np.meshgrid(y,x)\n",
      "    r = np.sqrt((X-x0)**2 + (Y-y0)**2)\n",
      "\n",
      "    state.q[0,:,:] = rhoin*(r<=r0) + rhoout*(r>r0)\n",
      "    state.q[1,:,:] = 0.\n",
      "    state.q[2,:,:] = 0.\n",
      "    state.q[3,:,:] = (pin*(r<=r0) + pout*(r>r0))/gamma1\n",
      "    state.q[4,:,:] = 1.*(r<=r0)\n",
      "\n",
      "    #Now average for the cells on the edge of the bubble\n",
      "    d2 = np.linalg.norm(state.grid.delta)/2.\n",
      "    dx = state.grid.delta[0]\n",
      "    dy = state.grid.delta[1]\n",
      "    dx2 = state.grid.delta[0]/2.\n",
      "    dy2 = state.grid.delta[1]/2.\n",
      "    for i in xrange(state.q.shape[1]):\n",
      "        for j in xrange(state.q.shape[2]):\n",
      "            ydown = y[j]-dy2\n",
      "            yup   = y[j]+dy2\n",
      "            if abs(r[i,j]-r0)<d2:\n",
      "                infrac,abserr = integrate.quad(ycirc,x[i]-dx2,x[i]+dx2,args=(ydown,yup),epsabs=1.e-8,epsrel=1.e-5)\n",
      "                infrac=infrac/(dx*dy)\n",
      "                state.q[0,i,j] = rhoin*infrac + rhoout*(1.-infrac)\n",
      "                state.q[3,i,j] = (pin*infrac + pout*(1.-infrac))/gamma1\n",
      "                state.q[4,i,j] = 1.*infrac\n",
      "\n",
      "\n",
      "def auxinit(state):\n",
      "    \"\"\"\n",
      "    aux[1,i,j] = y-coordinate of cell centers for cylindrical source terms\n",
      "    \"\"\"\n",
      "    x=state.grid.x.centers\n",
      "    y=state.grid.y.centers\n",
      "    for j,ycoord in enumerate(y):\n",
      "        state.aux[0,:,j] = ycoord\n",
      "\n",
      "def shockbc(state,dim,t,qbc,num_ghost):\n",
      "    \"\"\"\n",
      "    Incoming shock at left boundary.\n",
      "    \"\"\"\n",
      "    for (i,state_dim) in enumerate(state.patch.dimensions):\n",
      "        if state_dim.name == dim.name:\n",
      "            dim_index = i\n",
      "            break\n",
      "      \n",
      "    if (state.patch.dimensions[dim_index].lower == \n",
      "                        state.grid.dimensions[dim_index].lower):\n",
      "\n",
      "        pinf=5.\n",
      "        rinf = (gamma1 + pinf*(gamma+1.))/ ((gamma+1.) + gamma1*pinf)\n",
      "        vinf = 1./np.sqrt(gamma) * (pinf - 1.) / np.sqrt(0.5*((gamma+1.)/gamma) * pinf+0.5*gamma1/gamma)\n",
      "        einf = 0.5*rinf*vinf**2 + pinf/gamma1\n",
      "\n",
      "        for i in xrange(num_ghost):\n",
      "            qbc[0,i,...] = rinf\n",
      "            qbc[1,i,...] = rinf*vinf\n",
      "            qbc[2,i,...] = 0.\n",
      "            qbc[3,i,...] = einf\n",
      "            qbc[4,i,...] = 0.\n",
      "\n",
      "def step_Euler_radial(solver,state,dt):\n",
      "    \"\"\"\n",
      "    Geometric source terms for Euler equations with radial symmetry.\n",
      "    Integrated using a 2-stage, 2nd-order Runge-Kutta method.\n",
      "    This is a Clawpack-style source term routine.\n",
      "    \"\"\"\n",
      "    \n",
      "    dt2 = dt/2.\n",
      "    ndim = 2\n",
      "\n",
      "    aux=state.aux\n",
      "    q = state.q\n",
      "\n",
      "    rad = aux[0,:,:]\n",
      "\n",
      "    rho = q[0,:,:]\n",
      "    u   = q[1,:,:]/rho\n",
      "    v   = q[2,:,:]/rho\n",
      "    press  = gamma1 * (q[3,:,:] - 0.5*rho*(u**2 + v**2))\n",
      "\n",
      "    qstar = np.empty(q.shape)\n",
      "\n",
      "    qstar[0,:,:] = q[0,:,:] - dt2*(ndim-1)/rad * q[2,:,:]\n",
      "    qstar[1,:,:] = q[1,:,:] - dt2*(ndim-1)/rad * rho*u*v\n",
      "    qstar[2,:,:] = q[2,:,:] - dt2*(ndim-1)/rad * rho*v*v\n",
      "    qstar[3,:,:] = q[3,:,:] - dt2*(ndim-1)/rad * v * (q[3,:,:] + press)\n",
      "\n",
      "    rho = qstar[0,:,:]\n",
      "    u   = qstar[1,:,:]/rho\n",
      "    v   = qstar[2,:,:]/rho\n",
      "    press  = gamma1 * (qstar[3,:,:] - 0.5*rho*(u**2 + v**2))\n",
      "\n",
      "    q[0,:,:] = q[0,:,:] - dt*(ndim-1)/rad * qstar[2,:,:]\n",
      "    q[1,:,:] = q[1,:,:] - dt*(ndim-1)/rad * rho*u*v\n",
      "    q[2,:,:] = q[2,:,:] - dt*(ndim-1)/rad * rho*v*v\n",
      "    q[3,:,:] = q[3,:,:] - dt*(ndim-1)/rad * v * (qstar[3,:,:] + press)\n",
      "\n",
      "\n",
      "def dq_Euler_radial(solver,state,dt):\n",
      "    \n",
      "    \"\"\"\n",
      "    Geometric source terms for Euler equations with radial symmetry.\n",
      "    Integrated using a 2-stage, 2nd-order Runge-Kutta method.\n",
      "    This is a SharpClaw-style source term routine.\n",
      "    \"\"\"\n",
      "    \n",
      "    ndim = 2\n",
      "\n",
      "    q   = state.q\n",
      "    aux = state.aux\n",
      "\n",
      "    rad = aux[0,:,:]\n",
      "\n",
      "    rho = q[0,:,:]\n",
      "    u   = q[1,:,:]/rho\n",
      "    v   = q[2,:,:]/rho\n",
      "    press  = gamma1 * (q[3,:,:] - 0.5*rho*(u**2 + v**2))\n",
      "\n",
      "    dq = np.empty(q.shape)\n",
      "\n",
      "    dq[0,:,:] = -dt*(ndim-1)/rad * q[2,:,:]\n",
      "    dq[1,:,:] = -dt*(ndim-1)/rad * rho*u*v\n",
      "    dq[2,:,:] = -dt*(ndim-1)/rad * rho*v*v\n",
      "    dq[3,:,:] = -dt*(ndim-1)/rad * v * (q[3,:,:] + press)\n",
      "    dq[4,:,:] = 0\n",
      "\n",
      "    return dq\n",
      "\n",
      "def shockbubble(use_petsc=False,kernel_language='Fortran',solver_type='classic',iplot=False,htmlplot=False):\n",
      "    \"\"\"\n",
      "    Solve the Euler equations of compressible fluid dynamics.\n",
      "    This example involves a bubble of dense gas that is impacted by a shock.\n",
      "    \"\"\"\n",
      "\n",
      "    if use_petsc:\n",
      "        import clawpack.petclaw as pyclaw\n",
      "    else:\n",
      "        from clawpack import pyclaw\n",
      "\n",
      "    if kernel_language != 'Fortran':\n",
      "        raise Exception('Unrecognized value of kernel_language for Euler Shockbubble')\n",
      "\n",
      "    \n",
      "    if solver_type=='sharpclaw':\n",
      "        solver = pyclaw.SharpClawSolver2D()\n",
      "        solver.dq_src=dq_Euler_radial\n",
      "        solver.weno_order=5\n",
      "        solver.lim_type=2\n",
      "    else:\n",
      "        solver = pyclaw.ClawSolver2D()\n",
      "        solver.limiters = [4,4,4,4,2]\n",
      "        solver.step_source=step_Euler_radial\n",
      "\n",
      "    # Initialize domain\n",
      "    mx=320; my=80\n",
      "    x = pyclaw.Dimension('x',0.0,2.0,mx)\n",
      "    y = pyclaw.Dimension('y',0.0,0.5,my)\n",
      "    domain = pyclaw.Domain([x,y])\n",
      "    num_eqn = 5\n",
      "    num_aux=1\n",
      "    state = pyclaw.State(domain,num_eqn,num_aux)\n",
      "\n",
      "    state.problem_data['gamma']= gamma\n",
      "    state.problem_data['gamma1']= gamma1\n",
      "\n",
      "    tfinal = 0.72\n",
      "\n",
      "    qinit(state)\n",
      "    auxinit(state)\n",
      "    initial_solution = pyclaw.Solution(state,domain)\n",
      "\n",
      "    from clawpack import riemann\n",
      "    solver.rp = riemann.rp2_euler_5wave\n",
      "    solver.cfl_max = 0.5\n",
      "    solver.cfl_desired = 0.45\n",
      "    solver.num_waves = 5\n",
      "    solver.dt_initial=0.005\n",
      "    solver.user_bc_lower=shockbc\n",
      "    solver.source_split = 1\n",
      "    solver.bc_lower[0]=pyclaw.BC.custom\n",
      "    solver.bc_upper[0]=pyclaw.BC.extrap\n",
      "    solver.bc_lower[1]=pyclaw.BC.wall\n",
      "    solver.bc_upper[1]=pyclaw.BC.extrap\n",
      "    #Aux variable in ghost cells doesn't matter\n",
      "    solver.aux_bc_lower[0]=pyclaw.BC.extrap\n",
      "    solver.aux_bc_upper[0]=pyclaw.BC.extrap\n",
      "    solver.aux_bc_lower[1]=pyclaw.BC.extrap\n",
      "    solver.aux_bc_upper[1]=pyclaw.BC.extrap\n",
      "\n",
      "    claw = pyclaw.Controller()\n",
      "    claw.keep_copy = True\n",
      "    # The output format MUST be set to petsc!\n",
      "    claw.tfinal = tfinal\n",
      "    claw.solution = initial_solution\n",
      "    claw.solver = solver\n",
      "    claw.num_output_times = 50\n",
      "\n",
      "    # Solve\n",
      "    status = claw.run()\n",
      "\n",
      "    return claw"
     ],
     "language": "python",
     "metadata": {},
     "outputs": [],
     "prompt_number": 14
    },
    {
     "cell_type": "code",
     "collapsed": false,
     "input": [
      "\"\"\" \n",
      "Set up the plot figures, axes, and items to be done for each frame.\n",
      "\n",
      "This module is imported by the plotting routines and then the\n",
      "function setplot is called to set the plot parameters.\n",
      "    \n",
      "\"\"\" \n",
      "\n",
      "#--------------------------\n",
      "def setplot(plotdata):\n",
      "#--------------------------\n",
      "    \n",
      "    \"\"\" \n",
      "    Specify what is to be plotted at each frame.\n",
      "    Input:  plotdata, an instance of visclaw.plotters.data.ClawPlotData.\n",
      "    Output: a modified version of plotdata.\n",
      "    \n",
      "    \"\"\" \n",
      "    from matplotlib import cm\n",
      "\n",
      "    plotdata.clearfigures()  # clear any old figures,axes,items data\n",
      "    \n",
      "\n",
      "    # Figure for pressure\n",
      "    # -------------------\n",
      "\n",
      "    plotfigure = plotdata.new_plotfigure(name='Density', figno=0)\n",
      "\n",
      "    # Set up for axes in this figure:\n",
      "    plotaxes = plotfigure.new_plotaxes()\n",
      "    plotaxes.xlimits = 'auto'\n",
      "    plotaxes.ylimits = 'auto'\n",
      "    plotaxes.title = 'Density'\n",
      "    plotaxes.scaled = True      # so aspect ratio is 1\n",
      "    plotaxes.afteraxes = label_axes\n",
      "\n",
      "    # Set up for item on these axes:\n",
      "    plotitem = plotaxes.new_plotitem(plot_type='2d_schlieren')\n",
      "    #plotitem.pcolor_cmin = 0.5\n",
      "    #plotitem.pcolor_cmax=3.5\n",
      "    plotitem.plot_var = 0\n",
      "    plotitem.add_colorbar = False\n",
      "    plotitem.show = True       # show on plot?\n",
      "    \n",
      "    return plotdata\n",
      "\n",
      "def label_axes(current_data):\n",
      "    import matplotlib.pyplot as plt\n",
      "    plt.xlabel('z')\n",
      "    plt.ylabel('r')\n",
      "    #plt.draw()\n",
      "    "
     ],
     "language": "python",
     "metadata": {},
     "outputs": [],
     "prompt_number": 15
    },
    {
     "cell_type": "code",
     "collapsed": false,
     "input": [
      "from clawpack import pyclaw\n",
      "solver = pyclaw.ClawSolver2D()\n",
      "claw = shockbubble()"
     ],
     "language": "python",
     "metadata": {},
     "outputs": [
      {
       "output_type": "stream",
       "stream": "stdout",
       "text": [
        "2012-12-06 10:24:36,037 INFO CLAW: Solution 0 computed for time t=0.000000\n"
       ]
      },
      {
       "output_type": "stream",
       "stream": "stdout",
       "text": [
        "2012-12-06 10:24:37,815 INFO CLAW: Solution 1 computed for time t=0.016000\n"
       ]
      },
      {
       "output_type": "stream",
       "stream": "stdout",
       "text": [
        "2012-12-06 10:24:39,805 INFO CLAW: Solution 2 computed for time t=0.032000\n"
       ]
      },
      {
       "output_type": "stream",
       "stream": "stdout",
       "text": [
        "2012-12-06 10:24:42,220 INFO CLAW: Solution 3 computed for time t=0.048000\n"
       ]
      },
      {
       "output_type": "stream",
       "stream": "stdout",
       "text": [
        "2012-12-06 10:24:44,972 INFO CLAW: Solution 4 computed for time t=0.064000\n"
       ]
      },
      {
       "output_type": "stream",
       "stream": "stdout",
       "text": [
        "2012-12-06 10:24:47,962 INFO CLAW: Solution 5 computed for time t=0.080000\n"
       ]
      },
      {
       "output_type": "stream",
       "stream": "stdout",
       "text": [
        "2012-12-06 10:24:51,118 INFO CLAW: Solution 6 computed for time t=0.096000\n"
       ]
      },
      {
       "output_type": "stream",
       "stream": "stdout",
       "text": [
        "2012-12-06 10:24:54,433 INFO CLAW: Solution 7 computed for time t=0.112000\n"
       ]
      },
      {
       "output_type": "stream",
       "stream": "stdout",
       "text": [
        "2012-12-06 10:24:58,226 INFO CLAW: Solution 8 computed for time t=0.128000\n"
       ]
      },
      {
       "output_type": "stream",
       "stream": "stdout",
       "text": [
        "2012-12-06 10:25:03,794 INFO CLAW: Solution 9 computed for time t=0.144000\n"
       ]
      },
      {
       "output_type": "stream",
       "stream": "stdout",
       "text": [
        "2012-12-06 10:25:09,575 INFO CLAW: Solution 10 computed for time t=0.160000\n"
       ]
      },
      {
       "output_type": "stream",
       "stream": "stdout",
       "text": [
        "2012-12-06 10:25:15,429 INFO CLAW: Solution 11 computed for time t=0.176000\n"
       ]
      },
      {
       "output_type": "stream",
       "stream": "stdout",
       "text": [
        "2012-12-06 10:25:21,469 INFO CLAW: Solution 12 computed for time t=0.192000\n"
       ]
      },
      {
       "output_type": "stream",
       "stream": "stdout",
       "text": [
        "2012-12-06 10:25:27,549 INFO CLAW: Solution 13 computed for time t=0.208000\n"
       ]
      },
      {
       "output_type": "stream",
       "stream": "stdout",
       "text": [
        "2012-12-06 10:25:34,155 INFO CLAW: Solution 14 computed for time t=0.224000\n"
       ]
      },
      {
       "output_type": "stream",
       "stream": "stdout",
       "text": [
        "2012-12-06 10:25:40,867 INFO CLAW: Solution 15 computed for time t=0.240000\n"
       ]
      },
      {
       "output_type": "stream",
       "stream": "stdout",
       "text": [
        "2012-12-06 10:25:48,339 INFO CLAW: Solution 16 computed for time t=0.256000\n"
       ]
      },
      {
       "output_type": "stream",
       "stream": "stdout",
       "text": [
        "2012-12-06 10:25:55,596 INFO CLAW: Solution 17 computed for time t=0.272000\n"
       ]
      },
      {
       "output_type": "stream",
       "stream": "stdout",
       "text": [
        "2012-12-06 10:26:02,307 INFO CLAW: Solution 18 computed for time t=0.288000\n"
       ]
      },
      {
       "output_type": "stream",
       "stream": "stdout",
       "text": [
        "2012-12-06 10:26:08,740 INFO CLAW: Solution 19 computed for time t=0.304000\n"
       ]
      },
      {
       "output_type": "stream",
       "stream": "stdout",
       "text": [
        "2012-12-06 10:26:14,768 INFO CLAW: Solution 20 computed for time t=0.320000\n"
       ]
      },
      {
       "output_type": "stream",
       "stream": "stdout",
       "text": [
        "2012-12-06 10:26:21,105 INFO CLAW: Solution 21 computed for time t=0.336000\n"
       ]
      },
      {
       "output_type": "stream",
       "stream": "stdout",
       "text": [
        "2012-12-06 10:26:27,314 INFO CLAW: Solution 22 computed for time t=0.352000\n"
       ]
      },
      {
       "output_type": "stream",
       "stream": "stdout",
       "text": [
        "2012-12-06 10:26:33,441 INFO CLAW: Solution 23 computed for time t=0.368000\n"
       ]
      },
      {
       "output_type": "stream",
       "stream": "stdout",
       "text": [
        "2012-12-06 10:26:39,830 INFO CLAW: Solution 24 computed for time t=0.384000\n"
       ]
      },
      {
       "output_type": "stream",
       "stream": "stdout",
       "text": [
        "2012-12-06 10:26:45,868 INFO CLAW: Solution 25 computed for time t=0.400000\n"
       ]
      },
      {
       "output_type": "stream",
       "stream": "stdout",
       "text": [
        "2012-12-06 10:26:52,072 INFO CLAW: Solution 26 computed for time t=0.416000\n"
       ]
      },
      {
       "output_type": "stream",
       "stream": "stdout",
       "text": [
        "2012-12-06 10:26:58,011 INFO CLAW: Solution 27 computed for time t=0.432000\n"
       ]
      },
      {
       "output_type": "stream",
       "stream": "stdout",
       "text": [
        "2012-12-06 10:27:03,330 INFO CLAW: Solution 28 computed for time t=0.448000\n"
       ]
      },
      {
       "output_type": "stream",
       "stream": "stdout",
       "text": [
        "2012-12-06 10:27:08,594 INFO CLAW: Solution 29 computed for time t=0.464000\n"
       ]
      },
      {
       "output_type": "stream",
       "stream": "stdout",
       "text": [
        "2012-12-06 10:27:14,456 INFO CLAW: Solution 30 computed for time t=0.480000\n"
       ]
      },
      {
       "output_type": "stream",
       "stream": "stdout",
       "text": [
        "2012-12-06 10:27:19,626 INFO CLAW: Solution 31 computed for time t=0.496000\n"
       ]
      },
      {
       "output_type": "stream",
       "stream": "stdout",
       "text": [
        "2012-12-06 10:27:24,410 INFO CLAW: Solution 32 computed for time t=0.512000\n"
       ]
      },
      {
       "output_type": "stream",
       "stream": "stdout",
       "text": [
        "2012-12-06 10:27:29,033 INFO CLAW: Solution 33 computed for time t=0.528000\n"
       ]
      },
      {
       "output_type": "stream",
       "stream": "stdout",
       "text": [
        "2012-12-06 10:27:33,963 INFO CLAW: Solution 34 computed for time t=0.544000\n"
       ]
      },
      {
       "output_type": "stream",
       "stream": "stdout",
       "text": [
        "2012-12-06 10:27:38,649 INFO CLAW: Solution 35 computed for time t=0.560000\n"
       ]
      },
      {
       "output_type": "stream",
       "stream": "stdout",
       "text": [
        "2012-12-06 10:27:43,397 INFO CLAW: Solution 36 computed for time t=0.576000\n"
       ]
      },
      {
       "output_type": "stream",
       "stream": "stdout",
       "text": [
        "2012-12-06 10:27:48,007 INFO CLAW: Solution 37 computed for time t=0.592000\n"
       ]
      },
      {
       "output_type": "stream",
       "stream": "stdout",
       "text": [
        "2012-12-06 10:27:52,632 INFO CLAW: Solution 38 computed for time t=0.608000\n"
       ]
      },
      {
       "output_type": "stream",
       "stream": "stdout",
       "text": [
        "2012-12-06 10:27:57,163 INFO CLAW: Solution 39 computed for time t=0.624000\n"
       ]
      },
      {
       "output_type": "stream",
       "stream": "stdout",
       "text": [
        "2012-12-06 10:28:01,842 INFO CLAW: Solution 40 computed for time t=0.640000\n"
       ]
      },
      {
       "output_type": "stream",
       "stream": "stdout",
       "text": [
        "2012-12-06 10:28:06,278 INFO CLAW: Solution 41 computed for time t=0.656000\n"
       ]
      },
      {
       "output_type": "stream",
       "stream": "stdout",
       "text": [
        "2012-12-06 10:28:10,238 INFO CLAW: Solution 42 computed for time t=0.672000\n"
       ]
      },
      {
       "output_type": "stream",
       "stream": "stdout",
       "text": [
        "2012-12-06 10:28:14,038 INFO CLAW: Solution 43 computed for time t=0.688000\n"
       ]
      },
      {
       "output_type": "stream",
       "stream": "stdout",
       "text": [
        "2012-12-06 10:28:17,609 INFO CLAW: Solution 44 computed for time t=0.704000\n"
       ]
      },
      {
       "output_type": "stream",
       "stream": "stdout",
       "text": [
        "2012-12-06 10:28:21,022 INFO CLAW: Solution 45 computed for time t=0.720000\n"
       ]
      },
      {
       "output_type": "stream",
       "stream": "stdout",
       "text": [
        "2012-12-06 10:28:24,338 INFO CLAW: Solution 46 computed for time t=0.736000\n"
       ]
      },
      {
       "output_type": "stream",
       "stream": "stdout",
       "text": [
        "2012-12-06 10:28:28,082 INFO CLAW: Solution 47 computed for time t=0.752000\n"
       ]
      },
      {
       "output_type": "stream",
       "stream": "stdout",
       "text": [
        "2012-12-06 10:28:31,347 INFO CLAW: Solution 48 computed for time t=0.768000\n"
       ]
      },
      {
       "output_type": "stream",
       "stream": "stdout",
       "text": [
        "2012-12-06 10:28:34,385 INFO CLAW: Solution 49 computed for time t=0.784000\n"
       ]
      },
      {
       "output_type": "stream",
       "stream": "stdout",
       "text": [
        "2012-12-06 10:28:37,448 INFO CLAW: Solution 50 computed for time t=0.800000\n"
       ]
      }
     ],
     "prompt_number": 16
    },
    {
     "cell_type": "code",
     "collapsed": false,
     "input": [
      "import matplotlib.pyplot as plt\n",
      "import time\n",
      "from IPython.display import clear_output\n",
      "for n in range(claw.num_output_times+1):\n",
      "    claw.solution.plot(n,setplot=setplot)\n",
      "    time.sleep(0.2)\n",
      "    clear_output()\n",
      "    f=plt.gcf()\n",
      "    display(f)\n",
      "    plt.clf()"
     ],
     "language": "python",
     "metadata": {},
     "outputs": [
      {
       "output_type": "display_data",
       "png": "[encoded data removed]",
       "text": [
        "<matplotlib.figure.Figure at 0x108762d10>"
       ]
      },
      {
       "output_type": "display_data",
       "text": [
        "<matplotlib.figure.Figure at 0x108762d10>"
       ]
      }
     ],
     "prompt_number": 17
    },
    {
     "cell_type": "code",
     "collapsed": false,
     "input": [],
     "language": "python",
     "metadata": {},
     "outputs": []
    }
   ],
   "metadata": {}
  }
 ]
}