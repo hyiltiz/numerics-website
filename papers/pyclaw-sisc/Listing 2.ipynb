{
 "metadata": {
  "name": "Listing 2"
 },
 "nbformat": 3,
 "nbformat_minor": 0,
 "worksheets": [
  {
   "cells": [
    {
     "cell_type": "markdown",
     "metadata": {},
     "source": [
      "This notebook contains the code corresponding to listing 2 from the paper\n",
      "\n",
      "*PyClaw: Accessible, Extensible, Scalable Tools for Wave Propagation Problems*\n",
      "\n",
      "David I. Ketcheson, Kyle T Mandli, Aron Ahmadia, Amal Alghamdi, Manuel Quezada, Matteo Parsani, Matthew G. Knepley, and Matthew Emmett, SIAM Journal on Scientific Computing, 34(4):C210-C231 (2012)\n",
      "\n",
      "http://dx.doi.org/10.1137/110856976"
     ]
    },
    {
     "cell_type": "markdown",
     "metadata": {},
     "source": [
      "<img height=300 src=\"http://numerics.kaust.edu.sa/papers/pyclaw-sisc/listing2.png\">"
     ]
    },
    {
     "cell_type": "markdown",
     "metadata": {},
     "source": [
      "# Source\n",
      "\n",
      "Note that the grid here is only $100 \\times 100$, so it runs quickly.  To reproduce the figure above, set it to $500 \\times 500$."
     ]
    },
    {
     "cell_type": "code",
     "collapsed": false,
     "input": [
      "%pylab inline"
     ],
     "language": "python",
     "metadata": {},
     "outputs": []
    },
    {
     "cell_type": "code",
     "collapsed": false,
     "input": [
      "\"\"\"\n",
      "Solve the Euler equations of compressible fluid dynamics.\n",
      "\"\"\"\n",
      "from clawpack import pyclaw\n",
      "from clawpack import riemann\n",
      "\n",
      "solver = pyclaw.ClawSolver2D(riemann.rp2_euler_4wave)\n",
      "solver.all_bcs = pyclaw.BC.extrap\n",
      "\n",
      "domain = pyclaw.Domain([0.,0.],[1.,1.],[100,100])\n",
      "solution = pyclaw.Solution(solver.num_eqn,domain)\n",
      "gamma = 1.4\n",
      "solution.problem_data['gamma']  = gamma\n",
      "\n",
      "# Set initial data\n",
      "xx,yy = domain.grid.p_centers\n",
      "l = xx<0.5; r = xx>=0.5; b = yy<0.5; t = yy>=0.5\n",
      "solution.q[0,...] = 2.*l*t + 1.*l*b + 1.*r*t + 3.*r*b\n",
      "solution.q[1,...] = 0.75*t - 0.75*b\n",
      "solution.q[2,...] = 0.5*l  - 0.5*r\n",
      "solution.q[3,...] = 0.5*solution.q[0,...]*(solution.q[1,...]**2+solution.q[2,...]**2) + 1./(gamma-1.)\n",
      "\n",
      "#solver.evolve_to_time(solution,tend=0.3)\n",
      "claw = pyclaw.Controller()\n",
      "claw.tfinal = 0.3\n",
      "claw.solution = solution\n",
      "claw.solver = solver\n",
      "\n",
      "status = claw.run()"
     ],
     "language": "python",
     "metadata": {},
     "outputs": []
    },
    {
     "cell_type": "code",
     "collapsed": false,
     "input": [
      "#--------------------------\n",
      "def setplot(plotdata):\n",
      "#--------------------------\n",
      "    \n",
      "    \"\"\" \n",
      "    Specify what is to be plotted at each frame.\n",
      "    Input:  plotdata, an instance of visclaw.data.ClawPlotData.\n",
      "    Output: a modified version of plotdata.\n",
      "    \n",
      "    \"\"\" \n",
      "\n",
      "\n",
      "    from clawpack.visclaw import colormaps\n",
      "    from matplotlib import cm\n",
      "\n",
      "    plotdata.clearfigures()  # clear any old figures,axes,items data\n",
      "    \n",
      "\n",
      "    # Figure for pressure\n",
      "    # -------------------\n",
      "\n",
      "    plotfigure = plotdata.new_plotfigure(name='Density', figno=0)\n",
      "\n",
      "    # Set up for axes in this figure:\n",
      "    plotaxes = plotfigure.new_plotaxes()\n",
      "    plotaxes.xlimits = 'auto'\n",
      "    plotaxes.ylimits = 'auto'\n",
      "    plotaxes.title = 'Density'\n",
      "    plotaxes.scaled = True      # so aspect ratio is 1\n",
      "\n",
      "    # Set up for item on these axes:\n",
      "    plotitem = plotaxes.new_plotitem(plot_type='2d_schlieren')\n",
      "    #plotitem.pcolor_cmin = 0.5\n",
      "    #plotitem.pcolor_cmax=3.5\n",
      "    plotitem.plot_var = 0\n",
      "    plotitem.add_colorbar = False\n",
      "    plotitem.show = True       # show on plot?\n",
      "    \n",
      "    return plotdata"
     ],
     "language": "python",
     "metadata": {},
     "outputs": []
    },
    {
     "cell_type": "code",
     "collapsed": false,
     "input": [
      "def solution_plot(self,n,setplot=None,outdir='./_output'):\n",
      "    r\"\"\"\n",
      "    Plot the solution.  This should really plot from memory,\n",
      "    but is not implemented that way yet.\n",
      "\n",
      "    To do: implement plotting from memory.\n",
      "    \"\"\"\n",
      "    from clawpack.visclaw import data, frametools\n",
      "\n",
      "    plotdata = data.ClawPlotData()\n",
      "    plotdata.outdir = outdir\n",
      "    if setplot is None:\n",
      "        from setplot import setplot\n",
      "    plotdata.setplot = setplot\n",
      "    plotdata = frametools.call_setplot(setplot,plotdata)\n",
      "    \n",
      "    frametools.plotframe(n,plotdata)\n",
      "\n",
      "pyclaw.Solution.plot = solution_plot\n",
      "    \n",
      "import matplotlib.pyplot as plt\n",
      "import time\n",
      "from IPython.display import clear_output\n",
      "for n in range(claw.num_output_times+1):\n",
      "    claw.solution.plot(n,setplot=setplot)\n",
      "    time.sleep(0.2)\n",
      "    clear_output()\n",
      "    f=plt.gcf()\n",
      "    display(f)  \n",
      "    plt.clf()"
     ],
     "language": "python",
     "metadata": {},
     "outputs": []
    }
   ],
   "metadata": {}
  }
 ]
}